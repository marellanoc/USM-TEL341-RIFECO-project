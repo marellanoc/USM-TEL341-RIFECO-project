{
  "cells": [
    {
      "cell_type": "code",
      "metadata": {
        "id": "9eYduTheeOGF",
        "colab_type": "code",
        "colab": {}
      },
      "source": [
        "from random import random\n",
        "from math import *\n",
        "import numpy as np\n",
        "import collections\n",
        "import itertools"
      ],
      "execution_count": null,
      "outputs": []
    },
    {
      "cell_type": "code",
      "metadata": {
        "id": "dnMGpCxZesAi",
        "colab_type": "code",
        "colab": {}
      },
      "source": [
        "def expRand(scale,size=1):\n",
        "    u = np.random.rand(size)\n",
        "    return -(1 / scale)*np.log(u)"
      ],
      "execution_count": null,
      "outputs": []
    },
    {
      "cell_type": "code",
      "metadata": {
        "id": "6Nt2FyeBErx9",
        "colab_type": "code",
        "colab": {}
      },
      "source": [
        "N = 10 #Cantidad de nodos\n",
        "users = N*(N-1) #cantidad usuarios (90)"
      ],
      "execution_count": null,
      "outputs": []
    },
    {
      "cell_type": "code",
      "metadata": {
        "id": "CjtoHytd5rzl",
        "colab_type": "code",
        "colab": {}
      },
      "source": [
        "t_on = 0.001\n",
        "rho = 0.3\n",
        "t_off = t_on * ((1 - rho) / rho)\n",
        "\n",
        "mu = 1 / t_on\n",
        "lamb = 1 / (t_on + t_off)\n",
        "lambPrima = 1 / t_off\n",
        "\n",
        "charge = lamb / mu #(0.25)"
      ],
      "execution_count": null,
      "outputs": []
    },
    {
      "cell_type": "code",
      "metadata": {
        "id": "GHGRQeQ5e2bv",
        "colab_type": "code",
        "colab": {}
      },
      "source": [
        "bloqueos_totales=[] \n",
        "FEL = []\n",
        "for i in range(M):\n",
        "  FEL.append((i,expRand(1)))\n",
        "  FEL.sort(key = itemgetter(1))"
      ],
      "execution_count": null,
      "outputs": []
    }
  ],
  "metadata": {
    "colab": {
      "name": "Proyecto_Simula.ipynb",
      "provenance": [],
      "collapsed_sections": []
    },
    "kernelspec": {
      "name": "python_defaultSpec_1594673570121",
      "display_name": "Python 3.7.7 64-bit ('base': conda)"
    }
  },
  "nbformat": 4,
  "nbformat_minor": 0
}